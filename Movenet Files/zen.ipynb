{
  "cells": [
    {
      "cell_type": "code",
      "execution_count": null,
      "metadata": {
        "id": "fikue-7gxm3Q"
      },
      "outputs": [],
      "source": [
        "from google.colab import drive\n",
        "drive.mount('/content/gdrive')"
      ]
    },
    {
      "cell_type": "code",
      "execution_count": 5,
      "metadata": {
        "id": "VodDn2jW0Uck"
      },
      "outputs": [],
      "source": [
        "cp \"/content/gdrive/MyDrive/classification model.zip\" \"/content/classification model.zip\""
      ]
    },
    {
      "cell_type": "code",
      "execution_count": null,
      "metadata": {
        "id": "P-pv9lzn0yAN"
      },
      "outputs": [],
      "source": [
        "!unzip \"classification model.zip\""
      ]
    },
    {
      "cell_type": "code",
      "execution_count": null,
      "metadata": {
        "id": "wwVH4BWQ08Az"
      },
      "outputs": [],
      "source": [
        "cd \"classification model\""
      ]
    },
    {
      "cell_type": "code",
      "execution_count": null,
      "metadata": {
        "id": "GXNa8cCa0_9u"
      },
      "outputs": [],
      "source": [
        "!pip install wget"
      ]
    },
    {
      "cell_type": "code",
      "execution_count": null,
      "metadata": {
        "id": "POD8Vl8r1iWG"
      },
      "outputs": [],
      "source": [
        "!python preprocessing.py"
      ]
    },
    {
      "cell_type": "code",
      "execution_count": null,
      "metadata": {
        "id": "CEHHNJaadw1s"
      },
      "outputs": [],
      "source": [
        "!pip install tensorflowjs"
      ]
    },
    {
      "cell_type": "code",
      "execution_count": null,
      "metadata": {
        "id": "qC0RAg7TdmSI"
      },
      "outputs": [],
      "source": [
        "!python training.py"
      ]
    }
  ],
  "metadata": {
    "colab": {
      "name": "zen.ipynb",
      "provenance": []
    },
    "kernelspec": {
      "display_name": "Python 3",
      "name": "python3"
    },
    "language_info": {
      "name": "python"
    }
  },
  "nbformat": 4,
  "nbformat_minor": 0
}
